{
 "cells": [
  {
   "cell_type": "code",
   "execution_count": 2,
   "metadata": {},
   "outputs": [
    {
     "name": "stdout",
     "output_type": "stream",
     "text": [
      "/home/purpy-furcat/Documents/Code/Lab_Related\n"
     ]
    }
   ],
   "source": [
    "import pandas as pd\n",
    "import numpy as np\n",
    "import matplotlib.pyplot as plt\n",
    "from PyQt6 import QtWidgets\n",
    "\n",
    "plt.rcParams[\"backend\"] = 'QtAgg'\n",
    "plt.rcParams[\"figure.figsize\"] = (10, 5)\n",
    "plt.rcParams[\"figure.dpi\"] = 250\n",
    "plt.rcParams[\"savefig.format\"] = \"svg\"\n",
    "plt.rcParams['animation.frame_format'] = \"svg\"\n",
    "plt.rcParams['font.family'] = 'serif'\n",
    "\n",
    "import sys\n",
    "import os\n",
    "wd = %pwd\n",
    "parent = os.path.dirname(wd)\n",
    "fdel = os.path.sep\n",
    "\n",
    "print(parent)\n",
    "sys.path.append(parent)\n",
    "\n",
    "import nanoscale_measurement as nano"
   ]
  },
  {
   "cell_type": "code",
   "execution_count": 7,
   "metadata": {},
   "outputs": [
    {
     "name": "stdout",
     "output_type": "stream",
     "text": [
      "\n",
      "\n",
      " proflometry module by James Bishop, use for analysis of profilometry trace data from DekTak profilomoter. Email: james.bishop@uts.edu.au if you have further questions. \n",
      "\n",
      "\n",
      "Remove outliers method,  Delta %:  10\n",
      "Adding vertical line for measurement at x =  0.592132349587921\n",
      "Adding vertical line for measurement at x =  1.9815855147349697\n",
      "Will fit substratself.all_datae baseline for leveling between, x1: 0.592132349587921, x2: 1.9815855147349697\n",
      "X1 and X2 set:  0.592132349587921 1.9815855147349697\n",
      "Fitting line to substrate between x1 and x2 using linear regression (np.polyfit(deg = 1)).\n",
      "          Is a LBF with equal weighting to all points between x1 & x2.\n",
      "Adding vertical line for measurement at x =  0.007763242309737128\n",
      "Will fit substratself.all_datae baseline for leveling between, x1: 0.592132349587921, x2: 1.9815855147349697\n"
     ]
    }
   ],
   "source": [
    "thickness = nano.profilometry.main.measure_thickness()"
   ]
  },
  {
   "cell_type": "code",
   "execution_count": 14,
   "metadata": {},
   "outputs": [],
   "source": [
    "thickness_measure = thickness[0]\n",
    "pro_trace = thickness[1]\n",
    "pro_trace.data\n",
    "pro_trace.leveled_data.plot()\n",
    "plt.show()"
   ]
  },
  {
   "cell_type": "markdown",
   "metadata": {},
   "source": [
    "<img src=\"/home/purpy-furcat/Documents/Code/Lab_Related/Traces/salma_plot.svg\" alt=\"Despiked, leveled, interpolated profilometry data.\" />"
   ]
  },
  {
   "cell_type": "code",
   "execution_count": 15,
   "metadata": {},
   "outputs": [],
   "source": [
    "def qt_load_file_dialog(dialog_title: str = \"Choose a file\", initial_dir: str = wd,\n",
    "                        file_types: str = \"All Files (*);;Text Files (*.txt);;Excel Files (*.xlsx);;csv Files (*.csv)\",):\n",
    "\n",
    "    app = QtWidgets.QApplication.instance()  # Check if an instance already exists\n",
    "\n",
    "    if not app:  # If not, create a new instance\n",
    "        app = QtWidgets.QApplication(sys.argv)\n",
    "\n",
    "    file_path, _ = QtWidgets.QFileDialog.getOpenFileName(None, dialog_title, initial_dir, file_types, options=QtWidgets.QFileDialog.Option.DontUseNativeDialog)\n",
    "\n",
    "    return file_path\n",
    "\n",
    "def profilometry_plot(data: pd.Series, **kwargs):\n",
    "    fig, ax = plt.subplots(1, 1)\n",
    "    ax.plot(data)\n",
    "    ax.axhline(y=0, color='r', linestyle='--')\n",
    "    ax.grid(visible=True, which='both', axis='both', ls = \":\", lw = 0.75)\n",
    "    # Increase the number of ticks on x and y axes\n",
    "    ax.minorticks_on()\n",
    "    ax.set_xlabel(\"x (mm)\")\n",
    "    ax.set_ylabel(\"Height (nm)\")\n",
    "    ax.set_title(\"Profilometry data\")\n",
    "    # ax.xaxis.set_major_locator(MaxNLocator(nbins=19))\n",
    "    # ax.yaxis.set_major_locator(MaxNLocator(nbins=19))\n",
    "    return fig, ax   \n",
    "\n",
    "\n",
    "def find_closest_index(series: pd.Series, target_index_value: float) -> tuple:\n",
    "    # Subtract the target value from the series and take the absolute value\n",
    "    diff = abs((series.index - target_index_value))\n",
    "    # Find the index of the minimum value in the resulting series\n",
    "    closest_iloc = diff.argmin()\n",
    "    # Find the iloc position of the closest index\n",
    "    closest_index_value = series.index[closest_iloc]\n",
    "    return closest_index_value, closest_iloc\n"
   ]
  }
 ],
 "metadata": {
  "kernelspec": {
   "display_name": "financial",
   "language": "python",
   "name": "python3"
  },
  "language_info": {
   "codemirror_mode": {
    "name": "ipython",
    "version": 3
   },
   "file_extension": ".py",
   "mimetype": "text/x-python",
   "name": "python",
   "nbconvert_exporter": "python",
   "pygments_lexer": "ipython3",
   "version": "3.11.9"
  }
 },
 "nbformat": 4,
 "nbformat_minor": 2
}
