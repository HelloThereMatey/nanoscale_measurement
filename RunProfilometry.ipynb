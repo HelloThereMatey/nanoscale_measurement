{
 "cells": [
  {
   "cell_type": "code",
   "execution_count": 2,
   "id": "2e4189d4-d425-437b-8d69-222c78066a7f",
   "metadata": {},
   "outputs": [],
   "source": [
    "import pandas as pd \n",
    "import numpy as np\n",
    "import matplotlib.pyplot as plt\n",
    "wd = %pwd #This saves the working directory you have set for later use..\n",
    "import os\n",
    "import sys\n",
    "fdel = os.path.sep\n",
    "sys.path.append(wd)       #This adds the working directory to the environment path variable so that you can import the custom module \"profilometry\"\n",
    "import profilometry as pf           #This is the custom module I have written for profilometry data. \n",
    "# %load_ext autoreload      #This is an IPython magic command that reloads the custom module automatically so that if you change some code there\n",
    "# %autoreload 2           #You won't have to close and repoen this .ipynb file.  You only have to run it once per session. \n",
    "    "
   ]
  },
  {
   "cell_type": "code",
   "execution_count": 2,
   "id": "ae9de3da-e5be-4450-8b51-1d411ff419fb",
   "metadata": {},
   "outputs": [
    {
     "name": "stdout",
     "output_type": "stream",
     "text": [
      "\n",
      "\n",
      " proflometry module by James Bishop, use for analysis of profilometry trace data from DekTak profilomoter. Email: james.bishop@uts.edu.au if you have further questions. \n",
      "\n",
      "\n",
      "Adding vertical line for measurement at x =  0.5690098309546116\n",
      "Adding vertical line for measurement at x =  1.1933178340539663\n",
      "Will fit substrate baseline for leveling between, x1: 0.5690098309546116, x2: 1.1933178340539663\n",
      "X1 and X2 set:  0.5690098309546116 1.1933178340539663\n",
      "Fitting line to substrate between x1 and x2 using linear regression (np.polyfit(deg = 1)).\n",
      "          Is a LBF with equal weighting to all points between x1 & x2.\n",
      "Adding vertical line for measurement at x =  0.009865289458219795\n",
      "Will fit substrate baseline for leveling between, x1: 0.5690098309546116, x2: 1.1933178340539663\n"
     ]
    }
   ],
   "source": [
    "### The function.measure_thickness() function is used to measure the thickness of a sample, it brings up a dialog that let's you choose the.csv file\n",
    "#containing your raw data and then it will plot the data and follow the instructions printed at top right of chart. \n",
    "# This returns a tuple with [0] index being a float of your height measurement and \n",
    "# the .trace_profile object (at index [1]) that contains your loaded data and everything to do with that measuremnt you just ran. \n",
    "thick_measure = pf.main.measure_thickness()"
   ]
  },
  {
   "cell_type": "code",
   "execution_count": 35,
   "id": "361aeb8b",
   "metadata": {},
   "outputs": [
    {
     "name": "stdout",
     "output_type": "stream",
     "text": [
      "[(119, 302), (304, 1183), (1185, 3339), (3343, 3376), (3378, 3772), (3775, 6148), (6150, 6921), (6923, 7712), (7715, 7920), (7922, 8999)]\n"
     ]
    }
   ],
   "source": [
    "def clip_via_der_thresh(series: pd.Series, pos_threshold: float, neg_threshold: float) -> pd.Series:\n",
    "    # Initialize a mask with all 0 values\n",
    "    mask = pd.Series(0, index=series.index)\n",
    "    \n",
    "    # Assign 1 for values above the positive threshold\n",
    "    mask[series > pos_threshold] = 1\n",
    "    \n",
    "    # Assign -1 for values below the negative threshold\n",
    "    mask[series < neg_threshold] = -1\n",
    "    \n",
    "    return mask\n",
    "\n",
    "def find_ranges(series: pd.Series) -> list:\n",
    "    ranges = []\n",
    "    start = None\n",
    "    sign = 0\n",
    "\n",
    "    for i in range(len(series)):\n",
    "        if start is None:\n",
    "            if series.iloc[i] != 0:\n",
    "                start = i\n",
    "                sign = series.iloc[i]\n",
    "        elif series.iloc[i] == -sign:\n",
    "            if i + 1 < len(series) and series.iloc[i + 1] == 0:\n",
    "                ranges.append((start, i))\n",
    "                start = None\n",
    "                sign = 0\n",
    "\n",
    "    # Handle case where series ends without closing the range\n",
    "    if start is not None:\n",
    "        ranges.append((start, len(series) - 1))\n",
    "\n",
    "    return ranges\n",
    "\n",
    "shifted = thick_measure[1].data.shift().rename('Shifted')\n",
    "der = thick_measure[1].data.diff().rename('Derivative')\n",
    "dat = pd.concat([thick_measure[1].data, shifted, der], axis=1) #.drop(thick_measure[1].data.index[0]),\n",
    "mask = clip_via_der_thresh(der, 2.5, -2.5)\n",
    "dat['mask'] = mask\n",
    "ax = dat['mask'].plot()\n",
    "\n",
    "# # Find ranges to remove\n",
    "ranges = find_ranges(dat['mask'])\n",
    "print(ranges)\n",
    "# for i in range(len(ranges)):\n",
    "#     ax.axvspan(ranges[i][0], ranges[i][1], color='red', alpha=0.5)\n",
    "# #pd.Series(ranges, index = der.index).plot()\n",
    "plt.show()"
   ]
  },
  {
   "cell_type": "code",
   "execution_count": 58,
   "id": "71ea3c46",
   "metadata": {},
   "outputs": [
    {
     "name": "stdout",
     "output_type": "stream",
     "text": [
      "Index([   2,  112,  113,  114,  115,  116,  119,  120,  294,  295,\n",
      "       ...\n",
      "       7920, 7922, 7923, 7924, 7925, 7926, 7927, 7928, 8083, 8084],\n",
      "      dtype='int64', length=255)\n"
     ]
    },
    {
     "name": "stderr",
     "output_type": "stream",
     "text": [
      "/tmp/ipykernel_19382/3726969579.py:17: FutureWarning: ChainedAssignmentError: behaviour will change in pandas 3.0!\n",
      "You are setting values through chained assignment. Currently this works in certain cases, but when using Copy-on-Write (which will become the default behaviour in pandas 3.0) this will never work to update the original DataFrame or Series, because the intermediate object on which we are setting values will behave as a copy.\n",
      "A typical example is when you are setting values in a column of a DataFrame, like:\n",
      "\n",
      "df[\"col\"][row_indexer] = value\n",
      "\n",
      "Use `df.loc[row_indexer, \"col\"] = values` instead, to perform the assignment in a single step and ensure this keeps updating the original `df`.\n",
      "\n",
      "See the caveats in the documentation: https://pandas.pydata.org/pandas-docs/stable/user_guide/indexing.html#returning-a-view-versus-a-copy\n",
      "\n",
      "  dat[\"Despiked\"].loc[mask == 1] = np.nan\n",
      "/tmp/ipykernel_19382/3726969579.py:17: SettingWithCopyWarning: \n",
      "A value is trying to be set on a copy of a slice from a DataFrame\n",
      "\n",
      "See the caveats in the documentation: https://pandas.pydata.org/pandas-docs/stable/user_guide/indexing.html#returning-a-view-versus-a-copy\n",
      "  dat[\"Despiked\"].loc[mask == 1] = np.nan\n"
     ]
    }
   ],
   "source": [
    "def clip_der_thresh_abs(series: pd.Series, threshold: float, index_postion_distance: int) -> pd.Series:\n",
    "    der = series.diff().rename('Derivative')\n",
    "    mask = pd.Series(0, index=series.index)\n",
    "    mask[der.abs() > threshold] = 1\n",
    "\n",
    "    grouped_mask = mask.copy().reset_index(drop=True)\n",
    "    non_zero_positions = grouped_mask[grouped_mask != 0].index\n",
    "    print(non_zero_positions)\n",
    "    for i in range(len(non_zero_positions) - 1):\n",
    "        if non_zero_positions[i + 1] - non_zero_positions[i] <= index_postion_distance:\n",
    "            grouped_mask.iloc[non_zero_positions[i]:non_zero_positions[i + 1] + 1] = 1\n",
    "    return pd.Series(grouped_mask.to_list(), index=series.index)\n",
    "\n",
    "mask = clip_der_thresh_abs(dat[\"Total Profile(nm)\"], 1, 10)\n",
    "ax = mask.plot()\n",
    "dat[\"Despiked\"] = dat[\"Total Profile(nm)\"].copy()\n",
    "dat[\"Despiked\"].loc[mask == 1] = np.nan\n",
    "\n",
    "ax2 = dat[\"Despiked\"].plot()\n",
    "\n",
    "plt.show()"
   ]
  },
  {
   "cell_type": "code",
   "execution_count": 63,
   "id": "579474bb",
   "metadata": {},
   "outputs": [],
   "source": [
    "dat['EWMA_FB'] = pf.main.ewma_fb(dat['Despiked'], 10)\n",
    "ax = dat['Despiked'].plot()\n",
    "ax.plot(dat['EWMA_FB'], label='EWMA_FB', lw = 1, alpha = 0.6, color = 'red')\n",
    "plt.show()"
   ]
  },
  {
   "cell_type": "code",
   "execution_count": 50,
   "id": "5146f7cd",
   "metadata": {},
   "outputs": [],
   "source": [
    "dat['Total Profile(nm)_f'] = pf.main.cssplinefill(dat['Total Profile(nm)'])\n",
    "dat['Total Profile(nm)_f'].plot()\n",
    "plt.show()"
   ]
  },
  {
   "cell_type": "code",
   "execution_count": null,
   "id": "60ceba41",
   "metadata": {},
   "outputs": [],
   "source": []
  }
 ],
 "metadata": {
  "kernelspec": {
   "display_name": "Python 3 (ipykernel)",
   "language": "python",
   "name": "python3"
  },
  "language_info": {
   "codemirror_mode": {
    "name": "ipython",
    "version": 3
   },
   "file_extension": ".py",
   "mimetype": "text/x-python",
   "name": "python",
   "nbconvert_exporter": "python",
   "pygments_lexer": "ipython3",
   "version": "3.11.9"
  }
 },
 "nbformat": 4,
 "nbformat_minor": 5
}
